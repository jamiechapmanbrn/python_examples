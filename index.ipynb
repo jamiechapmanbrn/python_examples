{
 "cells": [
  {
   "cell_type": "markdown",
   "metadata": {},
   "source": [
    "# Python 3 features demo"
   ]
  },
  {
   "cell_type": "code",
   "execution_count": 33,
   "metadata": {},
   "outputs": [
    {
     "name": "stdout",
     "output_type": "stream",
     "text": [
      "The Zen of Python, by Tim Peters\n",
      "\n",
      "Beautiful is better than ugly.\n",
      "Explicit is better than implicit.\n",
      "Simple is better than complex.\n",
      "Complex is better than complicated.\n",
      "Flat is better than nested.\n",
      "Sparse is better than dense.\n",
      "Readability counts.\n",
      "Special cases aren't special enough to break the rules.\n",
      "Although practicality beats purity.\n",
      "Errors should never pass silently.\n",
      "Unless explicitly silenced.\n",
      "In the face of ambiguity, refuse the temptation to guess.\n",
      "There should be one-- and preferably only one --obvious way to do it.\n",
      "Although that way may not be obvious at first unless you're Dutch.\n",
      "Now is better than never.\n",
      "Although never is often better than *right* now.\n",
      "If the implementation is hard to explain, it's a bad idea.\n",
      "If the implementation is easy to explain, it may be a good idea.\n",
      "Namespaces are one honking great idea -- let's do more of those!\n"
     ]
    }
   ],
   "source": [
    "import this"
   ]
  },
  {
   "cell_type": "markdown",
   "metadata": {},
   "source": [
    "A few Quick pythonisms:\n",
    "\n",
    "Catch errors when, there is a process to deal with them.\n",
    "Ask for forgivness rather than permission\n",
    "Implement the simplest solution that works\n",
    "Don't superclass for the purpose of polymorphism    \n"
   ]
  },
  {
   "cell_type": "code",
   "execution_count": 40,
   "metadata": {
    "scrolled": true
   },
   "outputs": [
    {
     "name": "stdout",
     "output_type": "stream",
     "text": [
      "a:10,b:20\n",
      "a:20,b:10\n"
     ]
    }
   ],
   "source": [
    "# you can return and assign to multiple items at a time\n",
    "a=10\n",
    "b=20\n",
    "\n",
    "print('a:{},b:{}'.format(a,b))\n",
    "a,b = b,a\n",
    "print('a:{},b:{}'.format(a,b))\n"
   ]
  },
  {
   "cell_type": "code",
   "execution_count": 41,
   "metadata": {
    "collapsed": true
   },
   "outputs": [],
   "source": [
    "import random\n",
    "random.seed()"
   ]
  },
  {
   "cell_type": "markdown",
   "metadata": {},
   "source": [
    "This is a little demo notebook to play around with some neat features in python3 that can make code neat and readible!"
   ]
  },
  {
   "cell_type": "markdown",
   "metadata": {},
   "source": [
    "## Comprehensions\n",
    "Comprehensions are A great tool for transforming itterable items into another itterable item"
   ]
  },
  {
   "cell_type": "markdown",
   "metadata": {},
   "source": [
    "### List Comprehensions\n",
    "List Comprehensions take a list and turn it into a new list!"
   ]
  },
  {
   "cell_type": "code",
   "execution_count": null,
   "metadata": {
    "collapsed": true
   },
   "outputs": [],
   "source": []
  },
  {
   "cell_type": "code",
   "execution_count": 28,
   "metadata": {},
   "outputs": [
    {
     "name": "stdout",
     "output_type": "stream",
     "text": [
      "[{'blah': 0.30020344310234726}, {'blah': 0.2470101228848558}, {'blah': 0.5222598781453012}, {'blah': 0.3847919648882392}, {'blah': 0.275171673888985}]\n",
      "[0.30020344310234726, 0.2470101228848558, 0.5222598781453012, 0.3847919648882392, 0.275171673888985]\n",
      "[0.5222598781453012]\n"
     ]
    }
   ],
   "source": [
    "# Say we have a list of something that we need to transform\n",
    "\n",
    "the_list = []\n",
    "for i in range(5):\n",
    "    the_list.append( {\"blah\":random.random()} )\n",
    "print(the_list)\n",
    "\n",
    "# Basic list comprehension\n",
    "new_list = [item['blah'] for item in the_list]\n",
    "\n",
    "print(new_list)\n",
    "\n",
    "# You can also add filter conditions\n",
    "new_list = [item['blah'] for item in the_list if item['blah'] > 0.5]\n",
    "\n",
    "print(new_list)\n",
    "\n",
    "\n",
    "# Syntax Overview\n",
    "#            V--->Arbritrary code   V--->name of iterable   v->any conditional you want\n",
    "new_list = [item['blah'] for      item in the_list if item['blah'] > 0.5]\n",
    "\n",
    "print(new_list)"
   ]
  },
  {
   "cell_type": "markdown",
   "metadata": {},
   "source": [
    "### Dictionary Comprehension\n",
    "Dictionary Comprehension is an extension of list comprehension, but lets you generate dictionaries instead"
   ]
  },
  {
   "cell_type": "code",
   "execution_count": 29,
   "metadata": {},
   "outputs": [
    {
     "name": "stdout",
     "output_type": "stream",
     "text": [
      "[{'blah': 0.30020344310234726}, {'blah': 0.2470101228848558}, {'blah': 0.5222598781453012}, {'blah': 0.3847919648882392}, {'blah': 0.275171673888985}]\n",
      "{0.30020344310234726: 'hello', 0.2470101228848558: 'hello', 0.3847919648882392: 'hello', 0.5222598781453012: 'hello', 0.275171673888985: 'hello'}\n"
     ]
    }
   ],
   "source": [
    "#Now we have something we want to transform into a dictionary!\n",
    "the_list = []\n",
    "for i in range(5):\n",
    "    the_list.append( {\"blah\":random.random()} )\n",
    "print(the_list)\n",
    "\n",
    "\n",
    "#using the same list as before\n",
    "new_dict = { item['blah']:lookup(item) for item in the_list }\n",
    "\n",
    "print(new_dict)"
   ]
  },
  {
   "cell_type": "markdown",
   "metadata": {},
   "source": [
    "## Generators\n",
    "\n",
    "One of the best features of python3 over python 2 is generator everything!\n",
    "\n",
    "Rather than return a list of items, the range functions yield each item as generated\n"
   ]
  },
  {
   "cell_type": "code",
   "execution_count": 44,
   "metadata": {
    "scrolled": true
   },
   "outputs": [
    {
     "name": "stdout",
     "output_type": "stream",
     "text": [
      "0\n",
      "1\n",
      "2\n",
      "3\n",
      "4\n",
      "****\n",
      "1\n",
      "3\n"
     ]
    }
   ],
   "source": [
    "#an example of using a generator\n",
    "\n",
    "for thing in range(5):\n",
    "    print(thing)\n",
    "\n",
    "print('****') \n",
    "# okay great, but how to define my own generators?\n",
    "\n",
    "def odds(n):\n",
    "    for i in range(n):\n",
    "        if i % 2:\n",
    "            yield i\n",
    "\n",
    "odds_generator = odds(5)\n",
    "            \n",
    "print(next(odds_generator))\n",
    "print(next(odds_generator))"
   ]
  },
  {
   "cell_type": "markdown",
   "metadata": {},
   "source": [
    "## Yield From\n",
    "\n",
    "\n",
    "yield from returns the result from another generator"
   ]
  },
  {
   "cell_type": "code",
   "execution_count": 34,
   "metadata": {},
   "outputs": [
    {
     "name": "stdout",
     "output_type": "stream",
     "text": [
      "0\n",
      "1\n",
      "2\n",
      "0\n",
      "1\n",
      "2\n"
     ]
    }
   ],
   "source": [
    "def double_itterate(i, j):\n",
    "    for num in range(i):\n",
    "        yield from range(j)\n",
    "\n",
    "for thing in double_itterate(2,3):\n",
    "    print(thing)"
   ]
  },
  {
   "cell_type": "markdown",
   "metadata": {},
   "source": [
    "You can also use yield from to make recursive generators"
   ]
  },
  {
   "cell_type": "code",
   "execution_count": 36,
   "metadata": {
    "scrolled": true
   },
   "outputs": [
    {
     "name": "stdout",
     "output_type": "stream",
     "text": [
      "0\n",
      "0\n",
      "2\n",
      "0\n",
      "0\n",
      "2\n"
     ]
    }
   ],
   "source": [
    "def rec_generator(n):\n",
    "    for i in range(n):\n",
    "        if i % 2:\n",
    "            yield from rec_generator(i)\n",
    "        else:\n",
    "            yield i\n",
    "            \n",
    "for num in rec_generator(4):\n",
    "    print(num)"
   ]
  },
  {
   "cell_type": "markdown",
   "metadata": {},
   "source": [
    "## Generator tools"
   ]
  },
  {
   "cell_type": "markdown",
   "metadata": {},
   "source": [
    "### Enumerate\n",
    "Enumerate lets you know the current iteration of your list without a seperate counter"
   ]
  },
  {
   "cell_type": "code",
   "execution_count": 35,
   "metadata": {},
   "outputs": [
    {
     "name": "stdout",
     "output_type": "stream",
     "text": [
      "0\n",
      "1\n",
      "2\n"
     ]
    }
   ],
   "source": [
    "# You've probably made some code like this:\n",
    "\n",
    "a_list = [1,2,3]\n",
    "\n",
    "i = 0\n",
    "for thing in a_list:\n",
    "    print(i)\n",
    "    i=i+1\n",
    "    "
   ]
  },
  {
   "cell_type": "code",
   "execution_count": 38,
   "metadata": {},
   "outputs": [
    {
     "name": "stdout",
     "output_type": "stream",
     "text": [
      "0:0\n",
      "1:1\n",
      "2:4\n",
      "3:9\n"
     ]
    }
   ],
   "source": [
    "\n",
    "num_list = [ num*num for num in range(4) ]\n",
    "\n",
    "#what you should be doing is this:\n",
    "for i, num in enumerate(num_list):\n",
    "    print('{}:{}'.format(i, num))"
   ]
  },
  {
   "cell_type": "markdown",
   "metadata": {},
   "source": [
    "### Zip\n",
    "Zip combines two lists so you can work on them both together"
   ]
  },
  {
   "cell_type": "code",
   "execution_count": 41,
   "metadata": {},
   "outputs": [
    {
     "name": "stdout",
     "output_type": "stream",
     "text": [
      "fith:0.0,square:0\n",
      "fith:0.2,square:1\n",
      "fith:0.4,square:4\n",
      "fith:0.6,square:9\n"
     ]
    }
   ],
   "source": [
    "square_list = [ num*num for num in range(4) ]\n",
    "fith_list = [ num/5 for num in range(4) ]\n",
    "\n",
    "for fith,square in zip(fith_list, square_list):\n",
    "    print('fith:{},square:{}'.format(fith, square))"
   ]
  },
  {
   "cell_type": "markdown",
   "metadata": {},
   "source": [
    "### Chain\n",
    "Chain lets you put two different itterators together"
   ]
  },
  {
   "cell_type": "code",
   "execution_count": 45,
   "metadata": {},
   "outputs": [
    {
     "name": "stdout",
     "output_type": "stream",
     "text": [
      "0\n",
      "1\n",
      "2\n",
      "3\n",
      "4\n",
      "0\n",
      "1\n",
      "2\n",
      "3\n"
     ]
    }
   ],
   "source": [
    "from itertools import chain\n",
    "\n",
    "for num in chain( range(5), range(4) ):\n",
    "    print(num)"
   ]
  },
  {
   "cell_type": "markdown",
   "metadata": {},
   "source": [
    "# Functional Programming\n",
    "Python has some functional programming tools to help transform data sets in a minimal number of lines"
   ]
  },
  {
   "cell_type": "code",
   "execution_count": null,
   "metadata": {
    "collapsed": true
   },
   "outputs": [],
   "source": [
    "# Create a list of dicts to use for this example\n",
    "the_list = []\n",
    "for i in range(5):\n",
    "    the_list.append( {\"blah\":random.random()} )"
   ]
  },
  {
   "cell_type": "markdown",
   "metadata": {},
   "source": [
    "## Lambda\n",
    "Defines anonymous functions"
   ]
  },
  {
   "cell_type": "code",
   "execution_count": 39,
   "metadata": {},
   "outputs": [
    {
     "name": "stdout",
     "output_type": "stream",
     "text": [
      "0\n",
      "4\n"
     ]
    }
   ],
   "source": [
    "quadrupler = lambda x: x*4\n",
    "\n",
    "for i in range(2):\n",
    "    print(quadrupler(i))\n"
   ]
  },
  {
   "cell_type": "markdown",
   "metadata": {},
   "source": [
    "## Map\n",
    "Map does the same thing as a list comprehension, but can be a bit harder to read.\n",
    "I prefer using map and filter over comprehensions only if the function is complicated"
   ]
  },
  {
   "cell_type": "code",
   "execution_count": 54,
   "metadata": {
    "scrolled": true
   },
   "outputs": [
    {
     "name": "stdout",
     "output_type": "stream",
     "text": [
      "[0.30020344310234726, 0.2470101228848558, 0.5222598781453012, 0.3847919648882392, 0.275171673888985]\n"
     ]
    }
   ],
   "source": [
    "#from functools import map\n",
    "\n",
    "number_list = list(map( lambda x: x['blah'], the_list ))\n",
    "\n",
    "print(number_list)"
   ]
  },
  {
   "cell_type": "markdown",
   "metadata": {},
   "source": [
    "## Reduce\n",
    "Reduce composes a list into a single item"
   ]
  },
  {
   "cell_type": "code",
   "execution_count": 56,
   "metadata": {},
   "outputs": [
    {
     "name": "stdout",
     "output_type": "stream",
     "text": [
      "10\n"
     ]
    }
   ],
   "source": [
    "from functools import reduce\n",
    "number_sum = reduce( (lambda x,y: x+y) ,range(5) )\n",
    "print(number_sum)"
   ]
  },
  {
   "cell_type": "markdown",
   "metadata": {},
   "source": [
    "## Filter\n",
    "Filter eliminates non-comforming items from a list or generator\n"
   ]
  },
  {
   "cell_type": "code",
   "execution_count": 59,
   "metadata": {},
   "outputs": [
    {
     "name": "stdout",
     "output_type": "stream",
     "text": [
      "[1, 3]\n"
     ]
    }
   ],
   "source": [
    "number_odd = list(filter( (lambda x: x % 2 == 1), range(5) ))\n",
    "print(number_odd)"
   ]
  },
  {
   "cell_type": "markdown",
   "metadata": {},
   "source": [
    "# decorators\n",
    "Python implements decorators as meta-functions, there's quite a few usefull decorators available\n",
    "\n",
    "http://python-3-patterns-idioms-test.readthedocs.io/en/latest/PythonDecorators.html"
   ]
  },
  {
   "cell_type": "markdown",
   "metadata": {},
   "source": [
    "#### Simple Decorator"
   ]
  },
  {
   "cell_type": "code",
   "execution_count": 13,
   "metadata": {
    "scrolled": true
   },
   "outputs": [
    {
     "name": "stdout",
     "output_type": "stream",
     "text": [
      "Entering func1\n",
      "inside func1()\n",
      "Exited func1\n",
      "Entering func2\n",
      "inside func2()\n",
      "Exited func2\n"
     ]
    }
   ],
   "source": [
    "class entry_exit(object):\n",
    "\n",
    "    def __init__(self, f):\n",
    "        self.f = f\n",
    "\n",
    "    def __call__(self):\n",
    "        print(\"Entering\", self.f.__name__)\n",
    "        self.f()\n",
    "        print(\"Exited\", self.f.__name__)\n",
    "\n",
    "@entry_exit\n",
    "def func1():\n",
    "    print(\"inside func1()\")\n",
    "\n",
    "@entry_exit\n",
    "def func2():\n",
    "    print(\"inside func2()\")\n",
    "\n",
    "func1()\n",
    "func2()"
   ]
  },
  {
   "cell_type": "markdown",
   "metadata": {},
   "source": [
    "#### decorator with function arguments"
   ]
  },
  {
   "cell_type": "code",
   "execution_count": 14,
   "metadata": {
    "scrolled": true
   },
   "outputs": [
    {
     "name": "stdout",
     "output_type": "stream",
     "text": [
      "Inside __init__()\n",
      "Inside __call__()\n",
      "After decoration\n",
      "Preparing to call sayHello()\n",
      "Inside wrapped_f()\n",
      "Decorator arguments: hello world 42\n",
      "sayHello arguments: say hello argument list\n",
      "After f(*args)\n",
      "after first sayHello() call\n",
      "Inside wrapped_f()\n",
      "Decorator arguments: hello world 42\n",
      "sayHello arguments: a different set of arguments\n",
      "After f(*args)\n",
      "after second sayHello() call\n"
     ]
    }
   ],
   "source": [
    "# PythonDecorators/decorator_with_arguments.py\n",
    "class decorator_with_arguments(object):\n",
    "\n",
    "    def __init__(self, arg1, arg2, arg3):\n",
    "        \"\"\"\n",
    "        If there are decorator arguments, the function\n",
    "        to be decorated is not passed to the constructor!\n",
    "        \"\"\"\n",
    "        print(\"Inside __init__()\")\n",
    "        self.arg1 = arg1\n",
    "        self.arg2 = arg2\n",
    "        self.arg3 = arg3\n",
    "\n",
    "    def __call__(self, f):\n",
    "        \"\"\"\n",
    "        If there are decorator arguments, __call__() is only called\n",
    "        once, as part of the decoration process! You can only give\n",
    "        it a single argument, which is the function object.\n",
    "        \"\"\"\n",
    "        print(\"Inside __call__()\")\n",
    "        def wrapped_f(*args):\n",
    "            print(\"Inside wrapped_f()\")\n",
    "            print(\"Decorator arguments:\", self.arg1, self.arg2, self.arg3)\n",
    "            f(*args)\n",
    "            print(\"After f(*args)\")\n",
    "        return wrapped_f\n",
    "\n",
    "@decorator_with_arguments(\"hello\", \"world\", 42)\n",
    "def sayHello(a1, a2, a3, a4):\n",
    "    print('sayHello arguments:', a1, a2, a3, a4)\n",
    "\n",
    "print(\"After decoration\")\n",
    "\n",
    "print(\"Preparing to call sayHello()\")\n",
    "sayHello(\"say\", \"hello\", \"argument\", \"list\")\n",
    "print(\"after first sayHello() call\")\n",
    "sayHello(\"a\", \"different\", \"set of\", \"arguments\")\n",
    "print(\"after second sayHello() call\")"
   ]
  },
  {
   "cell_type": "markdown",
   "metadata": {},
   "source": [
    "#### Decorator Functions with Decorator Arguments"
   ]
  },
  {
   "cell_type": "code",
   "execution_count": null,
   "metadata": {
    "collapsed": true
   },
   "outputs": [],
   "source": [
    "# PythonDecorators/decorator_function_with_arguments.py\n",
    "def decorator_function_with_arguments(arg1, arg2, arg3):\n",
    "    def wrap(f):\n",
    "        print(\"Inside wrap()\")\n",
    "        def wrapped_f(*args):\n",
    "            print(\"Inside wrapped_f()\")\n",
    "            print(\"Decorator arguments:\", arg1, arg2, arg3)\n",
    "            f(*args)\n",
    "            print(\"After f(*args)\")\n",
    "        return wrapped_f\n",
    "    return wrap\n",
    "\n",
    "@decorator_function_with_arguments(\"hello\", \"world\", 42)\n",
    "def sayHello(a1, a2, a3, a4):\n",
    "    print('sayHello arguments:', a1, a2, a3, a4)\n",
    "\n",
    "print(\"After decoration\")\n",
    "\n",
    "print(\"Preparing to call sayHello()\")\n",
    "sayHello(\"say\", \"hello\", \"argument\", \"list\")\n",
    "print(\"after first sayHello() call\")\n",
    "sayHello(\"a\", \"different\", \"set of\", \"arguments\")\n",
    "print(\"after second sayHello() call\")"
   ]
  },
  {
   "cell_type": "markdown",
   "metadata": {},
   "source": [
    "### lru_cache\n",
    "\n",
    "least recently used cache is a cool decorator that lets you skip the function and return the same result for a call with the same arguments"
   ]
  },
  {
   "cell_type": "code",
   "execution_count": 45,
   "metadata": {},
   "outputs": [
    {
     "name": "stdout",
     "output_type": "stream",
     "text": [
      "0.5971993019920774\n"
     ]
    }
   ],
   "source": [
    "from timeit import default_timer as timer\n",
    "\n",
    "def fib(n):\n",
    "    if n < 2:\n",
    "        return n\n",
    "    return fib(n-2) + fib(n-1)\n",
    "\n",
    "start = timer()\n",
    "fib(30)\n",
    "print( timer() - start )"
   ]
  },
  {
   "cell_type": "code",
   "execution_count": 46,
   "metadata": {},
   "outputs": [
    {
     "name": "stdout",
     "output_type": "stream",
     "text": [
      "0.00208531302632764\n"
     ]
    }
   ],
   "source": [
    "from functools import lru_cache\n",
    "\n",
    "from timeit import default_timer as timer\n",
    "\n",
    "@lru_cache(128)\n",
    "def fib(n):\n",
    "    if n < 2:\n",
    "        return n\n",
    "    return fib(n-2) + fib(n-1)\n",
    "\n",
    "start = timer()\n",
    "fib(30)\n",
    "print( timer() - start )"
   ]
  },
  {
   "cell_type": "markdown",
   "metadata": {},
   "source": [
    "# Named Arguments\n",
    "Python allows named arguments for optional paramaters to a function.\n",
    "Use these if you have a lot of arguments, if a field is mandatory default it to None and throw an error"
   ]
  },
  {
   "cell_type": "code",
   "execution_count": 62,
   "metadata": {},
   "outputs": [
    {
     "name": "stdout",
     "output_type": "stream",
     "text": [
      "5\n"
     ]
    }
   ],
   "source": [
    "def default_func(num, should_print=False ):\n",
    "    if should_print :\n",
    "        print(num)\n",
    "    return num+1\n",
    "    \n",
    "\n",
    "num = default_func(4)    \n",
    "num = default_func(num, should_print=True)"
   ]
  },
  {
   "cell_type": "markdown",
   "metadata": {},
   "source": [
    "# list and dictionary unpacking\n",
    "The * operator in python lets you do some cool things with function arguments\n"
   ]
  },
  {
   "cell_type": "code",
   "execution_count": 64,
   "metadata": {},
   "outputs": [
    {
     "name": "stdout",
     "output_type": "stream",
     "text": [
      "3\n"
     ]
    }
   ],
   "source": [
    "def add(num1,num2):\n",
    "    return num1+num2\n",
    "\n",
    "a_list = [1,2]\n",
    "\n",
    "num = add(*a_list)\n",
    "\n",
    "print(num)"
   ]
  },
  {
   "cell_type": "markdown",
   "metadata": {},
   "source": [
    "## dictionary unpacking\n",
    "Dictionary arguments let you meta-program how you call named arguments"
   ]
  },
  {
   "cell_type": "code",
   "execution_count": 48,
   "metadata": {},
   "outputs": [
    {
     "name": "stdout",
     "output_type": "stream",
     "text": [
      "[1, 2, 3, 4]\n"
     ]
    }
   ],
   "source": [
    "def some_function(start=0,end=5):\n",
    "    return list(range(end))[start:end]\n",
    "\n",
    "\n",
    "args = {'start':1,'end':3, 'hjaosdohasd':3}\n",
    "\n",
    "print(some_function(**args))"
   ]
  },
  {
   "cell_type": "markdown",
   "metadata": {},
   "source": [
    "# Collections module\n",
    "The python Collections module has some really handy data structures that can save you time rewriting datastructures\n",
    "This isn't a complete overview, there's more classes in here that I havn't used"
   ]
  },
  {
   "cell_type": "markdown",
   "metadata": {},
   "source": [
    "### default_dictionary\n",
    "default dictionaries return a value when an unused key is accessed"
   ]
  },
  {
   "cell_type": "code",
   "execution_count": 16,
   "metadata": {},
   "outputs": [
    {
     "name": "stdout",
     "output_type": "stream",
     "text": [
      "defaultdict(<class 'int'>, {'not in dictionary': 0})\n",
      "defaultdict(<function <lambda> at 0x7fd2b27aa8c8>, {'not in dictionary': 0, 'also not in dictionary': 1})\n"
     ]
    }
   ],
   "source": [
    "from collections import defaultdict\n",
    "\n",
    "#The argument to the defaultdict constructor is a 0-argument function that returns the element at that location.\n",
    "d = defaultdict(int)\n",
    "\n",
    "d['not in dictionary']\n",
    "print(d)\n",
    "\n",
    "\n",
    "import itertools\n",
    "generator = iter(itertools.count())\n",
    "\n",
    "# you can use lambda to define anonymous functions as an argument rather than defining a function\n",
    "# you can also use itterators to return different things each time\n",
    "d = defaultdict(lambda: next(generator))\n",
    "d['not in dictionary']\n",
    "d['also not in dictionary']\n",
    "\n",
    "\n",
    "print(d)\n"
   ]
  },
  {
   "cell_type": "markdown",
   "metadata": {},
   "source": [
    "### Counter\n",
    "Counter is usefull for getting the number of times each element shows up in a list"
   ]
  },
  {
   "cell_type": "code",
   "execution_count": 18,
   "metadata": {},
   "outputs": [
    {
     "name": "stdout",
     "output_type": "stream",
     "text": [
      "2\n"
     ]
    }
   ],
   "source": [
    "from collections import Counter\n",
    "\n",
    "a_list = ['potato','cabbage','potato']\n",
    "\n",
    "c = Counter(a_list)\n",
    "\n",
    "print(c['potato'])\n",
    "\n",
    "\n"
   ]
  },
  {
   "cell_type": "markdown",
   "metadata": {},
   "source": [
    "### Named tupple\n",
    "Use these instead of normal tuples or defining custom classes when you have a set of things you want to name"
   ]
  },
  {
   "cell_type": "code",
   "execution_count": 19,
   "metadata": {},
   "outputs": [
    {
     "name": "stdout",
     "output_type": "stream",
     "text": [
      "location(radius=1, angle=1.5707963267948966)\n"
     ]
    }
   ],
   "source": [
    "from collections import namedtuple\n",
    "\n",
    "from math import pi\n",
    "\n",
    "RadialCoord = namedtuple('location', ['radius','angle'])\n",
    "\n",
    "\n",
    "top = RadialCoord(1,pi/2)\n",
    "\n",
    "print(top)\n",
    "\n",
    "r,a = top\n"
   ]
  },
  {
   "cell_type": "markdown",
   "metadata": {},
   "source": [
    "## Context Managers and the with statement\n",
    "Context managers let you handle cleanup after an action regardless of exceptions in code\n",
    "Context managers ensure that you clean up after any behaviour regardless of execution during its use"
   ]
  },
  {
   "cell_type": "code",
   "execution_count": 26,
   "metadata": {},
   "outputs": [
    {
     "name": "stdout",
     "output_type": "stream",
     "text": [
      "{\n",
      " \"cells\": [\n",
      "  {\n",
      "   \"cell_typ\n"
     ]
    }
   ],
   "source": [
    "#Simple example of using a context manager\n",
    "\n",
    "with open('index.ipynb') as to_read:\n",
    "    print(to_read.read()[0:30])\n",
    "\n",
    "# The file is always closed outside of its context!"
   ]
  },
  {
   "cell_type": "markdown",
   "metadata": {},
   "source": [
    "The code inside of the context actually executes inside of the context manager, allowing it to perform all kinds of behaviours. For example you can make it always output information regardless of what happens during a context's execution. If you need the failure to trickle up you can always re-raise the exception again."
   ]
  },
  {
   "cell_type": "code",
   "execution_count": 32,
   "metadata": {},
   "outputs": [
    {
     "name": "stdout",
     "output_type": "stream",
     "text": [
      "<greeting>\n",
      "hello wsi team\n",
      "</greeting>\n",
      "<hello>\n",
      "</hello>\n"
     ]
    }
   ],
   "source": [
    "from contextlib import contextmanager\n",
    "\n",
    "@contextmanager\n",
    "def tag(name):\n",
    "    print(\"<%s>\" % name)\n",
    "    try:\n",
    "        yield 'message'\n",
    "    except Exception:\n",
    "        pass\n",
    "    print(\"</%s>\" % name)\n",
    "    \n",
    "with tag(\"greeting\"):\n",
    "    print('hello wsi team')\n",
    "     \n",
    "        \n",
    "thing = ''\n",
    "with tag(\"hello\") as a:\n",
    "    raise Exception('oh noes!')\n",
    "    thing = a"
   ]
  }
 ],
 "metadata": {
  "celltoolbar": "Slideshow",
  "kernelspec": {
   "display_name": "Python 3",
   "language": "python",
   "name": "python3"
  },
  "language_info": {
   "codemirror_mode": {
    "name": "ipython",
    "version": 3
   },
   "file_extension": ".py",
   "mimetype": "text/x-python",
   "name": "python",
   "nbconvert_exporter": "python",
   "pygments_lexer": "ipython3",
   "version": "3.5.2"
  }
 },
 "nbformat": 4,
 "nbformat_minor": 1
}
